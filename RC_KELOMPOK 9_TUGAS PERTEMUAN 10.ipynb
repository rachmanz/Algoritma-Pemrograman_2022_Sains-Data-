{
  "nbformat": 4,
  "nbformat_minor": 0,
  "metadata": {
    "colab": {
      "provenance": []
    },
    "kernelspec": {
      "name": "python3",
      "display_name": "Python 3"
    },
    "language_info": {
      "name": "python"
    }
  },
  "cells": [
    {
      "cell_type": "markdown",
      "source": [
        "### **TUGAS ALPRO PERTEMUAN 10**\n",
        "\n",
        "### **KELAS : RC**\n",
        "\n",
        "### **KELOMPOK 9**\n",
        "- FRISCA SIHOTANG\n",
        "\n",
        "- ABDURRAHMAN AL ATSARY\n",
        "\n",
        "- MUHAMMAD HAIDAR HAWARI\n",
        "\n",
        "- IMA ALIFAH IZATI ZALFA "
      ],
      "metadata": {
        "id": "GtIG7SHo3udi"
      }
    },
    {
      "cell_type": "markdown",
      "source": [
        "### Latihan\n",
        "\n",
        "1. Height of Presidents. List Height berikut adalah data tinggi badan presiden negara A. \n",
        "\n",
        "height = \\[189 170 189 163 183 171 185 168 173 183 173 173 175 178 183 193 178 173\n",
        "\n",
        "174 183 183 168 170 178 182 180 183 178 182 188 175 179 183 193 182 183\n",
        "\n",
        "177 185 188 188 182 185\\]\n",
        "\n",
        "Buatlah program python dengan mengimplementasikan numpy array untuk mengitung rata-rata, median , simpangan baku, dan tinggi maksimum dan minimum pada data height tersebut."
      ],
      "metadata": {
        "id": "kSCURLBu3yAQ"
      }
    },
    {
      "cell_type": "code",
      "execution_count": 6,
      "metadata": {
        "colab": {
          "base_uri": "https://localhost:8080/"
        },
        "id": "LVGKI1Iv3atO",
        "outputId": "223d81de-5036-4fcc-cae8-9f18c24246ad"
      },
      "outputs": [
        {
          "output_type": "stream",
          "name": "stdout",
          "text": [
            "Data = [189 170 189 163 183 171 185 168 173 183 173 173 175 178 183 193 178 173\n",
            " 174 183 183 168 170 178 182 180 183 178 182 188 175 179 183 193 182 183\n",
            " 177 185 188 188 182 185]\n",
            "Rata-Rata = 179.73809523809524\n",
            "Median = 182.0\n",
            "Standar Deviasi = 6.931843442745892\n",
            "Maximum = 193\n",
            "Minimum = 163\n"
          ]
        }
      ],
      "source": [
        "import numpy as np\n",
        "height = [189, 170, 189, 163, 183, 171, 185, 168, 173, 183, 173, 173, 175, 178, 183, 193, 178, 173, 174, 183, 183, \n",
        "168, 170, 178, 182, 180, 183, 178, 182, 188, 175, 179, 183, 193, 182, 183, 177, 185, 188, 188, 182, 185]\n",
        "data = np.array(height)\n",
        "print(f\"Data = {data}\")\n",
        "#rata-rata\n",
        "rata_rata = np.mean(data)\n",
        "print(f\"Rata-Rata = {rata_rata}\")\n",
        "#median\n",
        "median = np.median(data)\n",
        "print(f\"Median = {median}\")\n",
        "#simpangan baku\n",
        "sd = np.std(data)\n",
        "print(f\"Standar Deviasi = {sd}\")\n",
        "#maksimum\n",
        "maks = np.max(data)\n",
        "print(f\"Maximum = {maks}\")\n",
        "#minimum\n",
        "mini = np.min(data)\n",
        "print(f\"Minimum = {mini}\")"
      ]
    },
    {
      "cell_type": "markdown",
      "source": [
        "2. Estimating pi using dart\n",
        "\n",
        "\n",
        "![Image 1](https://raw.githubusercontent.com/riksameidy/exercise-alpro-2022/master/estimating_pi_with_dart.png)\n",
        "\n",
        "\n",
        "Anda adalah pemain dart yang sangat buruk sehingga ketika anda melemparkan dart ke target, hasilnya selalu random. Anda ingin menggunakan ketidakahlian anda untuk sesuatu yang lain, yaitu mengestimasikan nilai $\\pi$. Nilai $\\pi$ dapat di estimasikan dengan cara membangkitkan bilangan acak pada area biru dan orange.\n",
        "Karena setiap lemparan akan menghasilkan titik secara acak, baik di area orange maupun biru, maka peluang dart akan kena di  lingkaran orange adalah rasio antara luas persegi biru dan lingkaran orange:\n",
        "\n",
        "$$P_{circle} = \\frac{Area_{circle}}{Area_{square}} = \\frac{\\pi r^2}{(2r)^2} = \\frac{\\pi}{4}$$\n",
        "\n",
        "dengan menggunakan approksimasi, maka peluang $P_{circle}$ dapat didekati dengan :\n",
        "\n",
        "$$ P_{circle} \\approx \\frac{N_{circle}}{N_{square}+N_{circle}} $$\n",
        "\n",
        "$$ \\frac{\\pi}{4} \\approx \\frac{N_{circle}}{N_{square}+N_{circle}} $$\n",
        "\n",
        "dimana $N_{circle}$ adalah jumlah dart yang kena di di  lingkaran orange dan $N_{square}$ adalah jumlah dart yang kena di area biru. Berdasarkan persamaan diatas kita juga mendapatkan hubungan berikut:\n",
        "\n",
        "$$ N = N_{circle} + N_{square}$$\n",
        "\n",
        "dimana N adalah jumlah pelemparan total dari dart.\n",
        "\n",
        "Asumsikan titik pusat lingkaran adalah koordinat (0,0)\n",
        "\n",
        "Buatlah program python dengan numpy array untuk mengestimasikan nilai $\\pi$ dengan jumlah N=10000 dan r = 1 menggunakan cara:\n",
        "- Unvectorized Solution\n",
        "- Vectorized Solution"
      ],
      "metadata": {
        "id": "IfYVnjS_4CwK"
      }
    },
    {
      "cell_type": "code",
      "source": [
        "#Unvectorized Solution\n",
        "import numpy as np\n",
        "N = 10000\n",
        "dart_positions = 2 * np.random.rand(N, 2) - 1  # Membangkitkan angka pada [-1, 1]\n",
        "Ncircle = [0] # Mulai perhitungan mulai dari 0 membuat perulangan menjadi lebih mudah\n",
        "\n",
        "for x,y in dart_positions:\n",
        "    if np.sqrt(x**2 + y**2) < 1:\n",
        "        Ncircle.append(Ncircle[-1] + 1) # Dart lainnya yang jatuh kedalam lingkaran\n",
        "    else:\n",
        "        Ncircle.append(Ncircle[-1])  # Dart yang jatuh diluar dari lingkaran - Ncircle tidak berubah \n",
        "\n",
        "pi_estimate = []\n",
        "\n",
        "for n_total, n_circle in enumerate(Ncircle[1:]): # Melompati inisial 0-perhitungan \n",
        "    # n_total dimulai dari 0, jadi kita perlu menambahkan nilai 1 \n",
        "    pi_estimate.append(4 * n_circle / (n_total + 1))\n",
        "#output selalu random\n",
        "print(pi_estimate[:10])"
      ],
      "metadata": {
        "colab": {
          "base_uri": "https://localhost:8080/"
        },
        "id": "QK6ah5yk4FrB",
        "outputId": "8f8393a6-1ce4-4ec7-b01a-710619134c9c"
      },
      "execution_count": 2,
      "outputs": [
        {
          "output_type": "stream",
          "name": "stdout",
          "text": [
            "[4.0, 2.0, 2.6666666666666665, 3.0, 3.2, 3.3333333333333335, 3.4285714285714284, 3.5, 3.111111111111111, 3.2]\n"
          ]
        }
      ]
    },
    {
      "cell_type": "code",
      "source": [
        "#Vectorized Solution\n",
        "import numpy as np\n",
        "N = 10000\n",
        "dart_positions = 2 * np.random.rand(N, 2) - 1\n",
        "dist_from_origin = np.sqrt((dart_positions**2).sum(axis=1))\n",
        "is_in_circle = dist_from_origin < 1 \n",
        "\n",
        "# penjumlahan kumulatif : num_in_circle[i] = sum(is_in_circle[:i])\n",
        "num_in_circle = np.cumsum(is_in_circle)\n",
        "\n",
        "num_thrown = np.arange(1, N+1) # 1, 2, ..., N\n",
        "pi_estimate = list(4 * num_in_circle / num_thrown)\n",
        "#output selalu random\n",
        "print(pi_estimate[:10])"
      ],
      "metadata": {
        "colab": {
          "base_uri": "https://localhost:8080/"
        },
        "id": "_jAKrN7r4RcA",
        "outputId": "c032278a-ce28-4f1c-aa72-99659e73599e"
      },
      "execution_count": 3,
      "outputs": [
        {
          "output_type": "stream",
          "name": "stdout",
          "text": [
            "[4.0, 4.0, 2.6666666666666665, 2.0, 2.4, 2.6666666666666665, 2.2857142857142856, 2.0, 2.2222222222222223, 2.4]\n"
          ]
        }
      ]
    },
    {
      "cell_type": "markdown",
      "source": [
        "3. Menghitung Akurasi Model \n",
        "\n",
        "Sebuah model Neural Network mendapatkan hasil label target berikut setelah dilakukan proses forward propagation.\n",
        "\n",
        "| x1  | x2  | x3  | predicted class |\n",
        "| --- | --- | --- | --------------- |\n",
        "| 1   | 0   | 1   | 0               |\n",
        "| 2   | 1   | 0   | 1               |\n",
        "| -1  | 3   | 5   | 1               |\n",
        "| 1   | 1   | 1   | 0               |\n",
        "| 0   | 4   | 3   | 1               | \n",
        "\n",
        "sementara data aslinya adalah sebagai berikut:\n",
        "\n",
        "| x1  | x2  | x3  | actual class |\n",
        "| --- | --- | --- | ------------ |\n",
        "| 0   | 4   | 3   | 1            |\n",
        "| 1   | 1   | 1   | 0            |\n",
        "| -1  | 3   | 5   | 0            |\n",
        "| 2   | 1   | 0   | 1            |\n",
        "| 1   | 0   | 1   | 0            |\n",
        "\n",
        "\n",
        "Untuk mengevaluasi model tersebut, maka digunakan metrics bernama akurasi yang didefinisikan sebagai:\n",
        "\n",
        "$$accuracy = \\frac{TP + TN}{N}$$\n",
        "\n",
        "dimana :\n",
        "- TP adalah jumlah kelas 1 yang tepat diklasifikasikan sebagai 1 (saat predicted class= 1 dan actual class = 1)\n",
        "- TN adalah jumlah kelas 0 yang tepat diklasifikasian sebagai 0 (saat peredicted class=0 dan actual class = 0)\n",
        "- N adalah total data\n",
        "\n",
        "buatlah sebuah program python untuk menghitung akurasi dari model tersebut dengan menggunakan cara:\n",
        "- Unvectorized Solution\n",
        "- Vectorized Solution"
      ],
      "metadata": {
        "id": "PJM1H7Ad4aGT"
      }
    },
    {
      "cell_type": "code",
      "source": [
        "#Unvectorized Solution\n",
        "acctual_class = [1, 0, 0, 1, 0]\n",
        "predict_class = [1, 0, 1, 1, 0]\n",
        "\n",
        "tp = 0\n",
        "tn = 0\n",
        "fp = 0\n",
        "fn = 0\n",
        "\n",
        "for i in range(len(acctual_class)):\n",
        "  if acctual_class[i] == predict_class[i] == 1:\n",
        "    tp += 1\n",
        "  elif acctual_class[i] == predict_class[i] == 0:\n",
        "    tn += 1\n",
        "  elif acctual_class[i] == 0 != predict_class[i]:\n",
        "    fp += 1\n",
        "  elif acctual_class[i] == 1 != predict_class[i]:\n",
        "    fn += 1\n",
        "accuracy = (tp + tn) / (tp + tn + fp + fn)\n",
        "print(accuracy)"
      ],
      "metadata": {
        "colab": {
          "base_uri": "https://localhost:8080/"
        },
        "id": "28BLdoVU4b-L",
        "outputId": "b7308848-fe92-45ae-dd7c-3c1197a82e84"
      },
      "execution_count": 4,
      "outputs": [
        {
          "output_type": "stream",
          "name": "stdout",
          "text": [
            "0.8\n"
          ]
        }
      ]
    },
    {
      "cell_type": "code",
      "source": [
        "#Vectorized Solution\n",
        "import numpy as np\n",
        "from sklearn.metrics import accuracy_score\n",
        "\n",
        "acctual_class = np.array([1, 0, 0, 1, 0])\n",
        "predict_class = np.array([1, 0, 1, 1, 0])\n",
        "accuracy_score(predict_class, acctual_class)"
      ],
      "metadata": {
        "colab": {
          "base_uri": "https://localhost:8080/"
        },
        "id": "3c_mzx_s4h58",
        "outputId": "510ce89e-9f3a-44d5-bca8-f3a75688c929"
      },
      "execution_count": 5,
      "outputs": [
        {
          "output_type": "execute_result",
          "data": {
            "text/plain": [
              "0.8"
            ]
          },
          "metadata": {},
          "execution_count": 5
        }
      ]
    }
  ]
}