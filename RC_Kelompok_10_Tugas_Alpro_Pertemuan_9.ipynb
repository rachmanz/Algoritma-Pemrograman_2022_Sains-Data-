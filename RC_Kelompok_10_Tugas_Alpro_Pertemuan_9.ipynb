{
  "nbformat": 4,
  "nbformat_minor": 0,
  "metadata": {
    "colab": {
      "provenance": [],
      "collapsed_sections": [
        "wSRWq8tXnaom",
        "8asVtv_qoSA7",
        "O1SgX87xwhZG"
      ]
    },
    "kernelspec": {
      "name": "python3",
      "display_name": "Python 3"
    },
    "language_info": {
      "name": "python"
    }
  },
  "cells": [
    {
      "cell_type": "markdown",
      "source": [
        "# **Tugas Pertemuan 9 Algoritma Pemrograman**\n",
        "##**Kelompok : 10**\n",
        "##**Kelas : RC**"
      ],
      "metadata": {
        "id": "O4rL0tDCgsEZ"
      }
    },
    {
      "cell_type": "markdown",
      "source": [
        "## **Latihan**"
      ],
      "metadata": {
        "id": "oIG2gFcFnoQm"
      }
    },
    {
      "cell_type": "markdown",
      "source": [
        "### ***Nomor 1***\n",
        "\n",
        "Lengkapi tabel berikut ini!\n",
        "\n",
        "| Sequence Type | Mutability | Access by Index | Duplicate Element | Change Element | Add / Remove Element |\n",
        "|:-------------:|:----------:|:---------------:|:-----------------:|:--------------:|:--------------------:|\n",
        "| List          |&check;          | &check;            | &check;              | &check;         |&check;          |\n",
        "| Tuple         |&cross;          |&check;             | &check;     |  &cross;         |&cross;                      |\n",
        "| Set           |&cross;              | &cross;                  |&cross;          |&cross;                  | &check;                     |\n",
        "| Dictionary    |&check;            | &cross;                | &cross;           |    &check;            |  &check;               |"
      ],
      "metadata": {
        "id": "E3VXRnY9iMuT"
      }
    },
    {
      "cell_type": "markdown",
      "source": [
        "### ***Nomor 2***\n",
        "Terdapat data sebagai berikut: \\\n",
        "\t**Data:** 1,2,1,2,3,10,11,5,6,19,20,30,50,50,50,20,9,4,5,12,11,11,30,50,90,80,80\n",
        "\tdengan mengimplementasi sequence type , buatlah program untuk: \\\n",
        "\t- Menghitung rata rata dari data tersebut \\\n",
        "\t- Mencari apa saja nilai unik yang dari data tersebut \\\n",
        "\t- Menghitung frekuensi kemunculan dari setiap elemen unik tersebut"
      ],
      "metadata": {
        "id": "dc6Q2H1pnQEF"
      }
    },
    {
      "cell_type": "markdown",
      "source": [
        "#### **Jawaban:**"
      ],
      "metadata": {
        "id": "wSRWq8tXnaom"
      }
    },
    {
      "cell_type": "code",
      "source": [
        "import numpy as np\n",
        "\n",
        "Data = np.array([1,2,1,2,3,10,11,5,6,19,20,30,50,50,50,20,9,4,5,12,11,11,30,50,90,80,80])\n",
        "\n",
        "res_1 = np.mean(Data)\n",
        "print(\"Rata-rata : \", res_1, \"\\n\")\n",
        "unique_elements, count_elements = np.unique(Data, return_counts= True)\n",
        "print(\"Unique Value dan Frekuensi adalah sebagai berikut: \\n\")\n",
        "print(np.asarray((unique_elements,count_elements)))"
      ],
      "metadata": {
        "colab": {
          "base_uri": "https://localhost:8080/"
        },
        "id": "V_CyBROxoCMS",
        "outputId": "5f2f12f8-9a94-4b9c-a993-474145701986"
      },
      "execution_count": null,
      "outputs": [
        {
          "output_type": "stream",
          "name": "stdout",
          "text": [
            "Rata-rata :  24.51851851851852 \n",
            "\n",
            "Unique Value dan Frekuensi adalah sebagai berikut: \n",
            "\n",
            "[[ 1  2  3  4  5  6  9 10 11 12 19 20 30 50 80 90]\n",
            " [ 2  2  1  1  2  1  1  1  3  1  1  2  2  4  2  1]]\n"
          ]
        }
      ]
    },
    {
      "cell_type": "markdown",
      "source": [
        "### ***Nomor 3***\n",
        "\n",
        "Terdapat tabel grade mahasiswa sebagai berikut:\n",
        "\n",
        "| NIM        | NAMA  | ALPRO | STRUKDAT | ADS | LMD | ALE |\n",
        "| ---------- | ----- | ----- | -------- | --- | --- | --- |\n",
        "| 1301142289 | ISA   | A     | A        | A   | A   | A   |\n",
        "| 1301140389 | LIA   | C     | A        | B   | A   | AB  |\n",
        "| 1301142099 | NAMDY | B     | B        | BC  | AB  | D   |\n",
        "| 1301142091 | SANDI | B     | C        | D   | A   | A   | \n",
        "\n",
        "- Jelaskan sequence type apa yang cocok digunakan untuk mengolah data tersebut!\n",
        "- Buatlah program untuk menghitung ipk dari setiap mahasiswa pada tabel tersebut!"
      ],
      "metadata": {
        "id": "8asVtv_qoSA7"
      }
    },
    {
      "cell_type": "markdown",
      "source": [
        "* Jelaskan sequence type apa yang cocok digunakan untuk mengolah data tersebut!\n",
        "\n",
        "**Jawab :** \\\n",
        "*Sequence type yang digunakan adalah list karena ditulis dengan [ ] lalu mengakses elemen list menggunakan index slicing.*"
      ],
      "metadata": {
        "id": "nuwUPaIO8jpN"
      }
    },
    {
      "cell_type": "code",
      "source": [
        "mahasiswa1 = [1301142289, \"ISA\", \"A\", \"A\", \"A\", \"A\", \"A\"]\n",
        "mahasiswa2 = [1301140389, \"LIA\", \"C\", \"A\", \"B\", \"A\", \"AB\"]\n",
        "mahasiswa3 = [1301142099, \"NAMDY\", \"B\", \"B\", \"BC\", \"AB\", \"D\"]\n",
        "mahasiswa4 = [1301142091, \"SANDI\", \"B\", \"C\", \"D\", \"A\", \"A\"]\n",
        "\n",
        "def convert_indeks (i):\n",
        "  nilai = 0\n",
        "  if i == \"A\":\n",
        "    nilai = 4\n",
        "  elif i == \"AB\":\n",
        "    nilai = 3.5\n",
        "  elif i == \"B\":\n",
        "    nilai = 3\n",
        "  elif i == \"BC\":\n",
        "    nilai = 2.5\n",
        "  elif i == \"C\":\n",
        "    nilai = 2\n",
        "  elif i == \"D\":\n",
        "    nilai = 1\n",
        "  elif i == \"E\":\n",
        "    nilai = 0\n",
        "  return nilai\n",
        "\n",
        "def IPK(li):\n",
        "  seq_indeks = li[2:]\n",
        "  total = 0\n",
        "  for i in seq_indeks:\n",
        "    total = total + convert_indeks(i)\n",
        "  rerata = total / len (seq_indeks)\n",
        "  return print(rerata)\n",
        "\n",
        "grade_mahasiswa1 = IPK(mahasiswa1)\n",
        "grade_mahasiswa2 = IPK(mahasiswa2)\n",
        "grade_mahasiswa3 = IPK(mahasiswa3)\n",
        "grade_mahasiswa4 = IPK(mahasiswa4)"
      ],
      "metadata": {
        "id": "QV3mam2Hsu2j",
        "colab": {
          "base_uri": "https://localhost:8080/"
        },
        "outputId": "4a58004b-ca08-40bf-b202-c3523fcd3dc4"
      },
      "execution_count": 1,
      "outputs": [
        {
          "output_type": "stream",
          "name": "stdout",
          "text": [
            "4.0\n",
            "3.3\n",
            "2.6\n",
            "2.8\n"
          ]
        }
      ]
    },
    {
      "cell_type": "markdown",
      "source": [
        "### ***Soal 4***\n",
        "\n",
        "**The Anagram Problem.**\n",
        "\n",
        "Original Text: 'Institut Teknologi Sumatera'\n",
        "\n",
        "Result Text: EAIGLKNMROTSU\n",
        "\n",
        "Buatlah program untuk mengubah sebuah string menjadi string lain dengan rule sebagai berikut:\n",
        "- Hasil result string seluruhnya adalah capital.\n",
        "- Tidak ada huruf yang duplikat dalam string result.\n",
        "- Posisi character si string baru terurut secara ascending, namun index genap dan ganjil di tukar dalam pair. Contoh: AEJK menjadi EAKJ."
      ],
      "metadata": {
        "id": "O1SgX87xwhZG"
      }
    },
    {
      "cell_type": "markdown",
      "source": [
        "#### **Jawab**:"
      ],
      "metadata": {
        "id": "mM_l8Np1wvTw"
      }
    },
    {
      "cell_type": "code",
      "source": [
        "string = 'Institut Teknologi Sumatera'\n",
        "print('Original Text\\t: ', string)\n",
        "upper = string.upper()\n",
        "unik = list(set(upper))\n",
        "unik.remove(' ')\n",
        "unik.sort()\n",
        "print('Ascending Huruf tanpa Duplikat: ' ,(unik))\n",
        "\n",
        "class solution:\n",
        "  def solve (self,nums):\n",
        "    length = len(unik)\n",
        "    for i in range(0, length, 4):\n",
        "      if (i+1<length):\n",
        "        unik[i], unik[i+1] = unik[i+1], unik[i]\n",
        "      if (i+2<length):\n",
        "        unik[i+2], unik[i+3] = unik[i+3], unik[i+2]\n",
        "    return unik\n",
        "\n",
        "ob = solution()\n",
        "nums = unik\n",
        "ob.solve(nums)\n",
        "print('Result Text : ', str.join('',nums))"
      ],
      "metadata": {
        "colab": {
          "base_uri": "https://localhost:8080/"
        },
        "id": "xzyphzUjw3q6",
        "outputId": "c7243041-2b41-49f5-af28-90b30027d98e"
      },
      "execution_count": 2,
      "outputs": [
        {
          "output_type": "stream",
          "name": "stdout",
          "text": [
            "Original Text\t:  Institut Teknologi Sumatera\n",
            "Ascending Huruf tanpa Duplikat:  ['A', 'E', 'G', 'I', 'K', 'L', 'M', 'N', 'O', 'R', 'S', 'T', 'U']\n",
            "Result Text :  EAIGLKNMROTSU\n"
          ]
        }
      ]
    }
  ]
}